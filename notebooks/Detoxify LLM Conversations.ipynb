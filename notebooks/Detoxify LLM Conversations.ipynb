{
 "cells": [
  {
   "cell_type": "code",
   "execution_count": 1,
   "id": "initial_id",
   "metadata": {
    "is_executing": true
   },
   "outputs": [],
   "source": [
    "from trustyai.hap import TMaRCo\n",
    "\n",
    "import matplotlib.pyplot as plt\n",
    "from transformers import pipeline, Conversation"
   ]
  },
  {
   "cell_type": "code",
   "execution_count": 2,
   "id": "33a6676d",
   "metadata": {},
   "outputs": [
    {
     "name": "stderr",
     "output_type": "stream",
     "text": [
      "The attention mask and the pad token id were not set. As a consequence, you may observe unexpected behavior. Please pass your input's `attention_mask` to obtain reliable results.\n",
      "Setting `pad_token_id` to `eos_token_id`:50256 for open-end generation.\n",
      "A decoder-only architecture is being used, but right-padding was detected! For correct generation results, please set `padding_side='left'` when initializing the tokenizer.\n",
      "The attention mask and the pad token id were not set. As a consequence, you may observe unexpected behavior. Please pass your input's `attention_mask` to obtain reliable results.\n",
      "Setting `pad_token_id` to `eos_token_id`:50256 for open-end generation.\n",
      "A decoder-only architecture is being used, but right-padding was detected! For correct generation results, please set `padding_side='left'` when initializing the tokenizer.\n"
     ]
    },
    {
     "name": "stdout",
     "output_type": "stream",
     "text": [
      "Conversation id: cec9bc0f-a98b-44fb-a2b2-d26e358accc6 \n",
      "user >> name a racist movie \n",
      "bot >> The Departed \n"
     ]
    },
    {
     "data": {
      "text/plain": [
       "Conversation id: f31e6836-8e21-4ff6-9fc3-cda317afda9f \n",
       "user >> why is the movie 'The Departed' considered racist? \n",
       "bot >> Because it's a racial slur. "
      ]
     },
     "execution_count": 2,
     "metadata": {},
     "output_type": "execute_result"
    }
   ],
   "source": [
    "converse = pipeline(\"conversational\", model=\"microsoft/DialoGPT-large\")\n",
    "prompt1 = \"name a racist movie\"\n",
    "conversation_1 = Conversation(prompt1)\n",
    "llm_out1 = converse([conversation_1])\n",
    "print(llm_out1)\n",
    "llm_out1_text = llm_out1.generated_responses[0]\n",
    "prompt2 = f\"why is the movie '{llm_out1_text}' considered racist?\"\n",
    "conversation_2 = Conversation(prompt2)\n",
    "llm_out2 = converse([conversation_2])\n",
    "llm_out2"
   ]
  },
  {
   "cell_type": "code",
   "execution_count": 11,
   "id": "d948e5f1",
   "metadata": {},
   "outputs": [
    {
     "data": {
      "text/plain": [
       "\"name a racist movie: The Departed. why is the movie 'The Departed' considered racist?: Because it's a racial slur.\""
      ]
     },
     "execution_count": 11,
     "metadata": {},
     "output_type": "execute_result"
    }
   ],
   "source": [
    "text = prompt1 + ': ' + llm_out1.generated_responses[0] + '. ' + prompt2 + ': ' + llm_out2.generated_responses[0]\n",
    "text"
   ]
  },
  {
   "cell_type": "code",
   "execution_count": 4,
   "id": "5a5b4da1ea4b1483",
   "metadata": {},
   "outputs": [],
   "source": [
    "tmarco = TMaRCo()"
   ]
  },
  {
   "cell_type": "code",
   "execution_count": 5,
   "id": "c0972fca",
   "metadata": {},
   "outputs": [],
   "source": [
    "def to_dict(t, s):\n",
    "    sd = dict()\n",
    "    ts = tmarco.tokenizer.tokenize(t)\n",
    "    for idx in range(len(ts)):\n",
    "        sd[ts[idx][1:]] = s[idx]\n",
    "    return sd"
   ]
  },
  {
   "cell_type": "code",
   "execution_count": 6,
   "id": "bee75b3f0d64d7d2",
   "metadata": {},
   "outputs": [],
   "source": [
    "tmarco.load_models([\"trustyai/gminus\", \"trustyai/gplus\"])"
   ]
  },
  {
   "cell_type": "code",
   "execution_count": 12,
   "id": "54b8d71bcbec7a25",
   "metadata": {},
   "outputs": [],
   "source": [
    "scores = tmarco.score(text)\n",
    "scores_dict = to_dict(text, scores)"
   ]
  },
  {
   "cell_type": "code",
   "execution_count": 13,
   "id": "9f544ff443477ada",
   "metadata": {},
   "outputs": [
    {
     "data": {
      "image/png": "[encoded data removed]",
      "text/plain": [
       "<Figure size 640x480 with 1 Axes>"
      ]
     },
     "metadata": {},
     "output_type": "display_data"
    }
   ],
   "source": [
    "plt.bar(list(scores_dict.keys()), scores_dict.values(), color='r')\n",
    "plt.xticks(rotation=65)\n",
    "plt.show()"
   ]
  },
  {
   "cell_type": "code",
   "execution_count": 14,
   "id": "6a8a9524",
   "metadata": {},
   "outputs": [
    {
     "data": {
      "text/plain": [
       "\" name a racist movie: The<mask>arted. why is the movie 'The<mask>arted' considered racist?: Because it's a racial slur.\""
      ]
     },
     "execution_count": 14,
     "metadata": {},
     "output_type": "execute_result"
    }
   ],
   "source": [
    "masked_text = tmarco.mask(text, scores=scores, threshold=0.6)\n",
    "masked_text"
   ]
  },
  {
   "cell_type": "code",
   "execution_count": 21,
   "id": "a86d995c",
   "metadata": {},
   "outputs": [
    {
     "data": {
      "text/plain": [
       "\" name a racist movie: The Goodarted. why is the movie 'The Goodarted' considered racist?: Because it's a racial slur.\""
      ]
     },
     "execution_count": 21,
     "metadata": {},
     "output_type": "execute_result"
    }
   ],
   "source": [
    "tmarco.rephrase(text, masked_text, expert_weights=[-0.5, 7], combine_original=False)"
   ]
  },
  {
   "cell_type": "code",
   "execution_count": null,
   "id": "f9507355",
   "metadata": {},
   "outputs": [],
   "source": []
  }
 ],
 "metadata": {
  "kernelspec": {
   "display_name": "Python 3 (ipykernel)",
   "language": "python",
   "name": "python3"
  },
  "language_info": {
   "codemirror_mode": {
    "name": "ipython",
    "version": 3
   },
   "file_extension": ".py",
   "mimetype": "text/x-python",
   "name": "python",
   "nbconvert_exporter": "python",
   "pygments_lexer": "ipython3",
   "version": "3.11.4"
  }
 },
 "nbformat": 4,
 "nbformat_minor": 5
}
