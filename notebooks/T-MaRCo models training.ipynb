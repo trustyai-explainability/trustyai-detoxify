{
 "cells": [
  {
   "cell_type": "code",
   "execution_count": 1,
   "id": "aa9dedb0",
   "metadata": {},
   "outputs": [],
   "source": [
    "from trustyai.detoxify import TMaRCo"
   ]
  },
  {
   "cell_type": "code",
   "execution_count": 2,
   "id": "a9ff6d46",
   "metadata": {},
   "outputs": [],
   "source": [
    "tmarco = TMaRCo(base_model='facebook/blenderbot-3B')"
   ]
  },
  {
   "cell_type": "code",
   "execution_count": null,
   "id": "471d38e2",
   "metadata": {},
   "outputs": [
    {
     "name": "stderr",
     "output_type": "stream",
     "text": [
      "python(1582) MallocStackLogging: can't turn off malloc stack logging because it was not enabled.\n",
      "python(1583) MallocStackLogging: can't turn off malloc stack logging because it was not enabled.\n",
      "python(1584) MallocStackLogging: can't turn off malloc stack logging because it was not enabled.\n",
      "python(1586) MallocStackLogging: can't turn off malloc stack logging because it was not enabled.\n",
      "python(1587) MallocStackLogging: can't turn off malloc stack logging because it was not enabled.\n"
     ]
    },
    {
     "data": {
      "application/vnd.jupyter.widget-view+json": {
       "model_id": "939b1c4eb6074cfeb78db134b85b8a2b",
       "version_major": 2,
       "version_minor": 0
      },
      "text/plain": [
       "Map (num_proc=4):   0%|          | 0/1526 [00:00<?, ? examples/s]"
      ]
     },
     "metadata": {},
     "output_type": "display_data"
    },
    {
     "name": "stderr",
     "output_type": "stream",
     "text": [
      "python(1588) MallocStackLogging: can't turn off malloc stack logging because it was not enabled.\n"
     ]
    }
   ],
   "source": [
    "tmarco.train_models(perc=10, dataset_name='jigsaw_toxicity_pred', base_model='facebook/blenderbot-3B',\n",
    "                   data_dir='/Users/tteofili/dev/trustyai-explainability-sandbox/llm_detox/jigsaw-toxic-comment-classification-challenge')"
   ]
  },
  {
   "cell_type": "code",
   "execution_count": null,
   "id": "d337540d",
   "metadata": {},
   "outputs": [],
   "source": []
  }
 ],
 "metadata": {
  "kernelspec": {
   "display_name": "Python 3 (ipykernel)",
   "language": "python",
   "name": "python3"
  },
  "language_info": {
   "codemirror_mode": {
    "name": "ipython",
    "version": 3
   },
   "file_extension": ".py",
   "mimetype": "text/x-python",
   "name": "python",
   "nbconvert_exporter": "python",
   "pygments_lexer": "ipython3",
   "version": "3.11.4"
  }
 },
 "nbformat": 4,
 "nbformat_minor": 5
}
